{
  "nbformat": 4,
  "nbformat_minor": 0,
  "metadata": {
    "colab": {
      "provenance": [],
      "authorship_tag": "ABX9TyN5TOi6zMEqyw27Dtkwu+ik"
    },
    "kernelspec": {
      "name": "python3",
      "display_name": "Python 3"
    },
    "language_info": {
      "name": "python"
    }
  },
  "cells": [
    {
      "cell_type": "markdown",
      "source": [
        "# Day-3(Algebra & Functions)"
      ],
      "metadata": {
        "id": "dBd5gATgO3u3"
      }
    },
    {
      "cell_type": "code",
      "execution_count": 1,
      "metadata": {
        "colab": {
          "base_uri": "https://localhost:8080/"
        },
        "id": "SFqM1EK0OhNo",
        "outputId": "a2b0004e-be7a-4a52-8fba-d94cc4792bec"
      },
      "outputs": [
        {
          "output_type": "stream",
          "name": "stdout",
          "text": [
            "13\n",
            "23\n"
          ]
        }
      ],
      "source": [
        "def linear_expression(x):\n",
        "    y = 2 * x + 3\n",
        "    return y\n",
        "\n",
        "print(linear_expression(5))\n",
        "print(linear_expression(10))"
      ]
    },
    {
      "cell_type": "code",
      "source": [
        "def solve_linear(a, b):\n",
        "    if a == 0:\n",
        "        return \"No solution (a cannot be zero)\"\n",
        "    return -b / a\n",
        "\n",
        "print(solve_linear(2, 4))"
      ],
      "metadata": {
        "colab": {
          "base_uri": "https://localhost:8080/"
        },
        "id": "tUqS8AOmPJ8U",
        "outputId": "999999e6-f8be-45dc-ccc1-7248de6ce0ca"
      },
      "execution_count": 2,
      "outputs": [
        {
          "output_type": "stream",
          "name": "stdout",
          "text": [
            "-2.0\n"
          ]
        }
      ]
    },
    {
      "cell_type": "code",
      "source": [
        "def solve_linear(a, b):\n",
        "    if a == 0:\n",
        "        return \"No solution (a cannot be zero)\"\n",
        "    return -b / a\n",
        "\n",
        "print(solve_linear(0, 4))"
      ],
      "metadata": {
        "colab": {
          "base_uri": "https://localhost:8080/"
        },
        "id": "s7kDOeMZPNDf",
        "outputId": "90992495-3486-487b-a278-4a7d504e3e54"
      },
      "execution_count": 3,
      "outputs": [
        {
          "output_type": "stream",
          "name": "stdout",
          "text": [
            "No solution (a cannot be zero)\n"
          ]
        }
      ]
    },
    {
      "cell_type": "code",
      "source": [
        "def solve_two_equations(a1, b1, c1, a2, b2, c2):\n",
        "    D = a1 * b2 - a2 * b1\n",
        "    if D == 0:\n",
        "        return \"No unique solution (lines are parallel)\"\n",
        "    x = (c1 * b2 - c2 * b1) / D\n",
        "    y = (a1 * c2 - a2 * c1) / D\n",
        "    return x, y\n",
        "\n",
        "print(solve_two_equations(2, 3, 8, 1, -4, -2))"
      ],
      "metadata": {
        "colab": {
          "base_uri": "https://localhost:8080/"
        },
        "id": "7YyZ-m5rPRMV",
        "outputId": "ef099aff-bf35-4a09-f755-376f9f965978"
      },
      "execution_count": 4,
      "outputs": [
        {
          "output_type": "stream",
          "name": "stdout",
          "text": [
            "(2.3636363636363638, 1.0909090909090908)\n"
          ]
        }
      ]
    },
    {
      "cell_type": "code",
      "source": [
        "# quadratic equation\n",
        "\n",
        "def solve_quadratic(a, b, c):\n",
        "    D = b**2 - 4*a*c\n",
        "    if D < 0:\n",
        "        return \"No real roots\"\n",
        "    elif D == 0:\n",
        "        x = -b / (2*a)\n",
        "        return (x,)\n",
        "    else:\n",
        "        x1 = (-b + D**0.5) / (2*a)\n",
        "        x2 = (-b - D**0.5) / (2*a)\n",
        "        return x1, x2\n",
        "\n",
        "print(solve_quadratic(1, -3, 2))\n",
        "print(solve_quadratic(1, 2, 1))"
      ],
      "metadata": {
        "colab": {
          "base_uri": "https://localhost:8080/"
        },
        "id": "ZmVRT7l3PU8f",
        "outputId": "c088f404-f92b-408f-fe1b-49bad4a57eb6"
      },
      "execution_count": 5,
      "outputs": [
        {
          "output_type": "stream",
          "name": "stdout",
          "text": [
            "(2.0, 1.0)\n",
            "(-1.0,)\n"
          ]
        }
      ]
    },
    {
      "cell_type": "code",
      "source": [
        "def f1(x):\n",
        "    return 2*x + 1\n",
        "\n",
        "print(f1(3))"
      ],
      "metadata": {
        "colab": {
          "base_uri": "https://localhost:8080/"
        },
        "id": "sr6UKd0vPe3g",
        "outputId": "34d10f0e-cfdb-42e6-bfec-8f818efd99cc"
      },
      "execution_count": 6,
      "outputs": [
        {
          "output_type": "stream",
          "name": "stdout",
          "text": [
            "7\n"
          ]
        }
      ]
    },
    {
      "cell_type": "code",
      "source": [
        "# quadratic fn\n",
        "\n",
        "def f2(x):\n",
        "    return x**2 - 4*x + 3\n",
        "\n",
        "print(f2(2))"
      ],
      "metadata": {
        "colab": {
          "base_uri": "https://localhost:8080/"
        },
        "id": "cZtTID9FPh_H",
        "outputId": "55d535f2-16c9-4e6c-ea87-41153e46e562"
      },
      "execution_count": 7,
      "outputs": [
        {
          "output_type": "stream",
          "name": "stdout",
          "text": [
            "-1\n"
          ]
        }
      ]
    },
    {
      "cell_type": "code",
      "source": [
        "def piecewise(x):\n",
        "    if x < 0:\n",
        "        return x**2\n",
        "    else:\n",
        "        return 2*x + 1\n",
        "\n",
        "print(piecewise(-3))\n",
        "print(piecewise(4))"
      ],
      "metadata": {
        "colab": {
          "base_uri": "https://localhost:8080/"
        },
        "id": "EQ1-7oBaPl12",
        "outputId": "51f9a1e5-63d3-475b-cbdb-ed5e682ccb13"
      },
      "execution_count": 8,
      "outputs": [
        {
          "output_type": "stream",
          "name": "stdout",
          "text": [
            "9\n",
            "9\n"
          ]
        }
      ]
    },
    {
      "cell_type": "code",
      "source": [
        "# Line Equation\n",
        "\n",
        "def line_equation(m, c, x):\n",
        "    y = m * x + c\n",
        "    return y\n",
        "\n",
        "print(line_equation(2, 3, 5))"
      ],
      "metadata": {
        "colab": {
          "base_uri": "https://localhost:8080/"
        },
        "id": "ca_ppY1CPphO",
        "outputId": "701f69fc-9555-468b-f22a-da6ffbe8ce29"
      },
      "execution_count": 9,
      "outputs": [
        {
          "output_type": "stream",
          "name": "stdout",
          "text": [
            "13\n"
          ]
        }
      ]
    },
    {
      "cell_type": "code",
      "source": [
        "# Function Composition\n",
        "\n",
        "def f(x): return x + 2\n",
        "def g(x): return 3 * x\n",
        "\n",
        "def composite(x):\n",
        "    return f(g(x))\n",
        "\n",
        "print(composite(4))"
      ],
      "metadata": {
        "colab": {
          "base_uri": "https://localhost:8080/"
        },
        "id": "fUicQjoOPuqx",
        "outputId": "3f8c97b8-5aac-49c6-fce0-63363b6f13ee"
      },
      "execution_count": 10,
      "outputs": [
        {
          "output_type": "stream",
          "name": "stdout",
          "text": [
            "14\n"
          ]
        }
      ]
    },
    {
      "cell_type": "code",
      "source": [
        "# Absolute Value Function\n",
        "\n",
        "def abs_val(x):\n",
        "    if x >= 0:\n",
        "        return x\n",
        "    else:\n",
        "        return -x\n",
        "\n",
        "print(abs_val(-7))"
      ],
      "metadata": {
        "colab": {
          "base_uri": "https://localhost:8080/"
        },
        "id": "PMDkfokXP4Qq",
        "outputId": "f79265a1-7cf8-49e1-8312-9106cf456f33"
      },
      "execution_count": 11,
      "outputs": [
        {
          "output_type": "stream",
          "name": "stdout",
          "text": [
            "7\n"
          ]
        }
      ]
    },
    {
      "cell_type": "code",
      "source": [],
      "metadata": {
        "id": "nCCNGQNHP7vD"
      },
      "execution_count": null,
      "outputs": []
    }
  ]
}
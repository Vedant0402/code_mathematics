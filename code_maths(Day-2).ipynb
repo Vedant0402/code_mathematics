{
  "nbformat": 4,
  "nbformat_minor": 0,
  "metadata": {
    "colab": {
      "provenance": [],
      "authorship_tag": "ABX9TyPruT8LKjbhLW0MrBpq/gNo"
    },
    "kernelspec": {
      "name": "python3",
      "display_name": "Python 3"
    },
    "language_info": {
      "name": "python"
    }
  },
  "cells": [
    {
      "cell_type": "markdown",
      "source": [
        "# Day-2 (Number Theory & Mathematical Logic)"
      ],
      "metadata": {
        "id": "ohuRF8vBdxXJ"
      }
    },
    {
      "cell_type": "code",
      "execution_count": 1,
      "metadata": {
        "colab": {
          "base_uri": "https://localhost:8080/"
        },
        "id": "tm537xlOTFRk",
        "outputId": "4c23c84c-a852-4dc4-af1d-e8b396f63032"
      },
      "outputs": [
        {
          "output_type": "stream",
          "name": "stdout",
          "text": [
            "[1, 2, 3, 4, 6, 9, 12, 18, 36]\n"
          ]
        }
      ],
      "source": [
        "# Factors\n",
        "\n",
        "def factors(n):\n",
        "    result = []\n",
        "    for i in range(1, int(n ** 0.5) + 1):\n",
        "        if n % i == 0:\n",
        "            result.append(i)\n",
        "            if i != n // i:\n",
        "                result.append(n // i)\n",
        "    return sorted(result)\n",
        "\n",
        "print(factors(36))"
      ]
    },
    {
      "cell_type": "code",
      "source": [
        "# Prime Factorization\n",
        "\n",
        "def prime_factors(n):\n",
        "    factors = {}\n",
        "    i = 2\n",
        "    while i * i <= n:\n",
        "        while n % i == 0:\n",
        "            factors[i] = factors.get(i, 0) + 1\n",
        "            n //= i\n",
        "        i += 1\n",
        "    if n > 1:\n",
        "        factors[n] = factors.get(n, 0) + 1\n",
        "    return factors\n",
        "\n",
        "print(prime_factors(60))"
      ],
      "metadata": {
        "colab": {
          "base_uri": "https://localhost:8080/"
        },
        "id": "FTu9ObGOeEK_",
        "outputId": "5fe2a943-9151-4b08-8e74-8a7b7511845f"
      },
      "execution_count": 2,
      "outputs": [
        {
          "output_type": "stream",
          "name": "stdout",
          "text": [
            "{2: 2, 3: 1, 5: 1}\n"
          ]
        }
      ]
    },
    {
      "cell_type": "code",
      "source": [
        "# GCD of Multiple Numbers\n",
        "\n",
        "def gcd(a, b):\n",
        "    while b != 0:\n",
        "        a, b = b, a % b\n",
        "    return a\n",
        "\n",
        "def gcd_multiple(numbers):\n",
        "    from functools import reduce\n",
        "    return reduce(gcd, numbers)\n",
        "\n",
        "print(gcd_multiple([12, 24, 36, 60]))"
      ],
      "metadata": {
        "colab": {
          "base_uri": "https://localhost:8080/"
        },
        "id": "q6AcYm9leT__",
        "outputId": "55537687-2618-451e-b6c0-2bda23e7551e"
      },
      "execution_count": 3,
      "outputs": [
        {
          "output_type": "stream",
          "name": "stdout",
          "text": [
            "12\n"
          ]
        }
      ]
    },
    {
      "cell_type": "code",
      "source": [
        "# Co-prime\n",
        "# Two numbers are co-prime if their GCD = 1\n",
        "\n",
        "def is_coprime(a, b):\n",
        "    return gcd(a, b) == 1\n",
        "\n",
        "print(is_coprime(8, 15))\n",
        "print(is_coprime(12, 18))"
      ],
      "metadata": {
        "colab": {
          "base_uri": "https://localhost:8080/"
        },
        "id": "VaNCtgflecKL",
        "outputId": "e3a12edb-7e10-48ba-e507-c173dca180a1"
      },
      "execution_count": 4,
      "outputs": [
        {
          "output_type": "stream",
          "name": "stdout",
          "text": [
            "True\n",
            "False\n"
          ]
        }
      ]
    },
    {
      "cell_type": "code",
      "source": [
        "# Modular Arithmetic Properties\n",
        "\n",
        "def mod_properties(a, b, m):\n",
        "    print(\"Addition mod:\", (a + b) % m == ((a % m) + (b % m)) % m)\n",
        "    print(\"Multiplication mod:\", (a * b) % m == ((a % m) * (b % m)) % m)\n",
        "\n",
        "mod_properties(7, 5, 3)"
      ],
      "metadata": {
        "colab": {
          "base_uri": "https://localhost:8080/"
        },
        "id": "rw3GJNnwfKiR",
        "outputId": "c475b624-75f1-4e6a-bdf5-992b1b03d0db"
      },
      "execution_count": 5,
      "outputs": [
        {
          "output_type": "stream",
          "name": "stdout",
          "text": [
            "Addition mod: True\n",
            "Multiplication mod: True\n"
          ]
        }
      ]
    },
    {
      "cell_type": "code",
      "source": [
        "def gcd_3(a, b, c):\n",
        "    return gcd(gcd(a, b), c)\n",
        "\n",
        "def lcm_3(a, b, c):\n",
        "    return abs(a*b*c) // gcd_3(a, b, c)**2\n",
        "\n",
        "print(gcd_3(12, 18, 24))\n",
        "print(lcm_3(12, 18, 24))"
      ],
      "metadata": {
        "colab": {
          "base_uri": "https://localhost:8080/"
        },
        "id": "-WiIU_uHfUn6",
        "outputId": "b18ad907-c268-4dac-fa66-0b6a4f919054"
      },
      "execution_count": 6,
      "outputs": [
        {
          "output_type": "stream",
          "name": "stdout",
          "text": [
            "6\n",
            "144\n"
          ]
        }
      ]
    },
    {
      "cell_type": "code",
      "source": [
        "def is_perfect(n):\n",
        "    return sum([i for i in range(1, n) if n % i == 0]) == n\n",
        "\n",
        "print(is_perfect(6))\n",
        "print(is_perfect(28))\n",
        "print(is_perfect(12))"
      ],
      "metadata": {
        "colab": {
          "base_uri": "https://localhost:8080/"
        },
        "id": "hM6UOrfLfftk",
        "outputId": "af75960a-2eb7-4d1f-de89-e98d4e5074e2"
      },
      "execution_count": 7,
      "outputs": [
        {
          "output_type": "stream",
          "name": "stdout",
          "text": [
            "True\n",
            "True\n",
            "False\n"
          ]
        }
      ]
    },
    {
      "cell_type": "code",
      "source": [
        "# primes up to N\n",
        "\n",
        "def sieve(n):\n",
        "    primes = [True] * (n + 1)\n",
        "    primes[0] = primes[1] = False\n",
        "    for i in range(2, int(n ** 0.5) + 1):\n",
        "        if primes[i]:\n",
        "            for j in range(i * i, n + 1, i):\n",
        "                primes[j] = False\n",
        "    return [i for i, p in enumerate(primes) if p]\n",
        "\n",
        "print(sieve(30))"
      ],
      "metadata": {
        "colab": {
          "base_uri": "https://localhost:8080/"
        },
        "id": "ZstAB49nfoA9",
        "outputId": "2d7d91bd-0cdb-44f8-fc7e-46b003f6be44"
      },
      "execution_count": 8,
      "outputs": [
        {
          "output_type": "stream",
          "name": "stdout",
          "text": [
            "[2, 3, 5, 7, 11, 13, 17, 19, 23, 29]\n"
          ]
        }
      ]
    },
    {
      "cell_type": "code",
      "source": [],
      "metadata": {
        "id": "Omlyfl7Ffvjx"
      },
      "execution_count": null,
      "outputs": []
    }
  ]
}
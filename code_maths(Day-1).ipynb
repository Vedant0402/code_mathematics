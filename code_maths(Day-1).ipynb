{
  "nbformat": 4,
  "nbformat_minor": 0,
  "metadata": {
    "colab": {
      "provenance": [],
      "authorship_tag": "ABX9TyM9+5siYXQQF6bgN6K2kbfz"
    },
    "kernelspec": {
      "name": "python3",
      "display_name": "Python 3"
    },
    "language_info": {
      "name": "python"
    }
  },
  "cells": [
    {
      "cell_type": "markdown",
      "source": [
        "# Day-1 (Arithmetic Foundation)"
      ],
      "metadata": {
        "id": "FKfUSD9AFeOE"
      }
    },
    {
      "cell_type": "code",
      "execution_count": 1,
      "metadata": {
        "colab": {
          "base_uri": "https://localhost:8080/"
        },
        "id": "zX_kR8vyE-WS",
        "outputId": "9c1a5704-f68b-4bfd-e92a-80b3526f5aed"
      },
      "outputs": [
        {
          "output_type": "stream",
          "name": "stdout",
          "text": [
            "120\n"
          ]
        }
      ],
      "source": [
        "# Factorial\n",
        "\n",
        "def factorial(n):\n",
        "    result = 1\n",
        "    for i in range(1, n + 1):\n",
        "        result *= i\n",
        "    return result\n",
        "\n",
        "print(factorial(5))"
      ]
    },
    {
      "cell_type": "code",
      "source": [
        "# GCD (Greatest Common Divisor)\n",
        "\n",
        "def gcd(a, b):\n",
        "    while b != 0:\n",
        "        a, b = b, a % b\n",
        "    return a\n",
        "\n",
        "print(gcd(24, 36))"
      ],
      "metadata": {
        "colab": {
          "base_uri": "https://localhost:8080/"
        },
        "id": "NenXbi6dGt4D",
        "outputId": "5db7e5de-a4bf-4203-9027-2b566d4327b0"
      },
      "execution_count": 2,
      "outputs": [
        {
          "output_type": "stream",
          "name": "stdout",
          "text": [
            "12\n"
          ]
        }
      ]
    },
    {
      "cell_type": "code",
      "source": [
        "# LCM (Least Common Multiple)\n",
        "\n",
        "def lcm(a, b):\n",
        "    return abs(a * b) // gcd(a, b)\n",
        "\n",
        "print(lcm(4, 6))"
      ],
      "metadata": {
        "colab": {
          "base_uri": "https://localhost:8080/"
        },
        "id": "nO-eOJWiISYE",
        "outputId": "67a282a8-51e0-449d-fa53-467f7bd837ad"
      },
      "execution_count": 3,
      "outputs": [
        {
          "output_type": "stream",
          "name": "stdout",
          "text": [
            "12\n"
          ]
        }
      ]
    },
    {
      "cell_type": "code",
      "source": [
        "# Power Function\n",
        "\n",
        "def power(a, b):\n",
        "    result = 1\n",
        "    for _ in range(b):\n",
        "        result *= a\n",
        "    return result\n",
        "\n",
        "print(power(2, 5))"
      ],
      "metadata": {
        "colab": {
          "base_uri": "https://localhost:8080/"
        },
        "id": "_Im4fLUrfFgV",
        "outputId": "4f7ffa2f-b3aa-49bf-a379-b152f4851fa6"
      },
      "execution_count": 4,
      "outputs": [
        {
          "output_type": "stream",
          "name": "stdout",
          "text": [
            "32\n"
          ]
        }
      ]
    },
    {
      "cell_type": "code",
      "source": [
        "# Prime Number\n",
        "\n",
        "def is_prime(n):\n",
        "    if n <= 1:\n",
        "        return False\n",
        "    for i in range(2, int(n ** 0.5) + 1):\n",
        "        if n % i == 0:\n",
        "            return False\n",
        "    return True\n",
        "\n",
        "print(is_prime(7))\n",
        "print(is_prime(12))"
      ],
      "metadata": {
        "colab": {
          "base_uri": "https://localhost:8080/"
        },
        "id": "fKD4bkuyfKrH",
        "outputId": "6d8f96d0-05d9-4d31-9267-97e5701b07f1"
      },
      "execution_count": 5,
      "outputs": [
        {
          "output_type": "stream",
          "name": "stdout",
          "text": [
            "True\n",
            "False\n"
          ]
        }
      ]
    },
    {
      "cell_type": "code",
      "source": [
        "# Modular Arithmetic\n",
        "\n",
        "def mod(a, m):\n",
        "    return a % m\n",
        "\n",
        "print(mod(17, 5))"
      ],
      "metadata": {
        "colab": {
          "base_uri": "https://localhost:8080/"
        },
        "id": "PZiApo2UfT91",
        "outputId": "82789eff-e3e0-432c-d050-8fc19cbc70d6"
      },
      "execution_count": 6,
      "outputs": [
        {
          "output_type": "stream",
          "name": "stdout",
          "text": [
            "2\n"
          ]
        }
      ]
    },
    {
      "cell_type": "code",
      "source": [
        "# Modular Exponentiation\n",
        "\n",
        "def mod_power(a, b, m):\n",
        "    result = 1\n",
        "    a = a % m\n",
        "    for _ in range(b):\n",
        "        result = (result * a) % m\n",
        "    return result\n",
        "\n",
        "print(mod_power(2, 10, 5))"
      ],
      "metadata": {
        "colab": {
          "base_uri": "https://localhost:8080/"
        },
        "id": "znrEWP_hfZYn",
        "outputId": "0db1f87b-0a0b-4870-9917-4c2a0125512d"
      },
      "execution_count": 7,
      "outputs": [
        {
          "output_type": "stream",
          "name": "stdout",
          "text": [
            "4\n"
          ]
        }
      ]
    },
    {
      "cell_type": "code",
      "source": [
        "# Sum of Digits\n",
        "\n",
        "def sum_of_digits(n):\n",
        "    total = 0\n",
        "    while n > 0:\n",
        "        total += n % 10\n",
        "        n //= 10\n",
        "    return total\n",
        "\n",
        "print(sum_of_digits(12345))"
      ],
      "metadata": {
        "colab": {
          "base_uri": "https://localhost:8080/"
        },
        "id": "fqyPZyo_ffQ2",
        "outputId": "74fd166a-89cc-4af1-b73a-97ccd2d435ac"
      },
      "execution_count": 8,
      "outputs": [
        {
          "output_type": "stream",
          "name": "stdout",
          "text": [
            "15\n"
          ]
        }
      ]
    }
  ]
}